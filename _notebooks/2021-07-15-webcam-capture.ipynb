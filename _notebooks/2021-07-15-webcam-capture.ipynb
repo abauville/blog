{
 "cells": [
  {
   "cell_type": "markdown",
   "id": "fcd2d641-50d8-41fb-9670-369e5f2c9fcc",
   "metadata": {},
   "source": [
    "# Display the live webcam feed in a Jupyter notebook using OpenCV\n",
    "\n",
    "- description: \"getting started with OpenCV and Jupyter notebook\"\n",
    "- toc: false\n",
    "- branch: master\n",
    "- badges: true\n",
    "- comments: true\n",
    "- categories: [jupyter, OpenCV, computer-vision]\n",
    "- image: images/some_folder/your_image.png\n",
    "- hide: false\n",
    "- search_exclude: true\n",
    "- metadata_key1: metadata_value1\n",
    "- metadata_key2: metadata_value2"
   ]
  },
  {
   "cell_type": "markdown",
   "id": "dc12c702-4b37-4ab7-b31c-72d0cc7c9558",
   "metadata": {},
   "source": [
    "[OpenCV](https://opencv.org/) is a popular and powerful computer vision library for Python. It allows the user to efficiently computation intensive task on images and videos, including live webcam feed. By default, OpenCV displays images in its own independent window. However, it is often more practical to visualize results directly in the notebook. Here, I'll demonstrate how to display the webcam feed in the notebook and how to setup Ipywidgets to interact with the feed."
   ]
  },
  {
   "cell_type": "markdown",
   "id": "5ee51be3-e6a0-43c5-9d51-14827a4bcdbe",
   "metadata": {},
   "source": [
    "# Setup\n",
    "\n",
    "Let's start by importing the necessary libraries"
   ]
  },
  {
   "cell_type": "code",
   "execution_count": null,
   "id": "041d003e-b538-4f8c-8a2b-a96e2285bf3a",
   "metadata": {},
   "outputs": [],
   "source": [
    "import matplotlib.pyplot as plt\n",
    "import cv2\n",
    "import numpy as np\n",
    "from IPython.display import display, Image\n",
    "import ipywidgets as widgets\n",
    "import threading"
   ]
  },
  {
   "cell_type": "markdown",
   "id": "329f12cc-2d39-4711-8ebc-25b7ab901dd7",
   "metadata": {},
   "source": [
    "# Display the webcam in OpenCV's own window\n",
    "\n",
    "To start, here's the standard way of display the webcam feed with OpenCV."
   ]
  },
  {
   "cell_type": "code",
   "execution_count": null,
   "id": "f925db20-f32f-4a36-afc6-d796bb481231",
   "metadata": {},
   "outputs": [],
   "source": [
    "cap = cv2.VideoCapture(0)\n",
    "cap.set(3,640) # adjust width\n",
    "cap.set(4,480) # adjust height\n",
    "\n",
    "while True:\n",
    "    success, img = cap.read()\n",
    "    cv2.imshow(\"Webcam\", img) # This will open an independent window\n",
    "    if cv2.waitKey(1) & 0xFF==ord('q'): # quit when 'q' is pressed\n",
    "        cap.release()\n",
    "        break\n",
    "        \n",
    "cv2.destroyAllWindows() \n",
    "cv2.waitKey(1) # normally unnecessary, but it fixes a bug on MacOS where the window doesn't close"
   ]
  },
  {
   "cell_type": "markdown",
   "id": "0580178d-8be0-4985-bf78-8aa46512a5d0",
   "metadata": {},
   "source": [
    "# Display the webcam inside the notebook\n",
    "Here I combine the display code proposed [here](https://stackoverflow.com/questions/27882255/is-it-possible-to-display-an-opencv-video-inside-the-ipython-jupyter-notebook) with an Ipywidget button. Since the feed is updated inside a loop, the button is not updated by default, which renders it inactive. To fix that I use the asynchronous widget update described [here](https://ipywidgets.readthedocs.io/en/latest/examples/Widget%20Asynchronous.html). Now, when clicked the button will stop the feed and remove the output. Note that the code reference your own webcam so it won't work on Google Colab."
   ]
  },
  {
   "cell_type": "code",
   "execution_count": null,
   "id": "653faad4-6a75-4c3b-8318-8b374a4a7179",
   "metadata": {},
   "outputs": [],
   "source": [
    "# Stop button\n",
    "# ================\n",
    "stopButton = widgets.ToggleButton(\n",
    "    value=False,\n",
    "    description='Stop',\n",
    "    disabled=False,\n",
    "    button_style='danger', # 'success', 'info', 'warning', 'danger' or ''\n",
    "    tooltip='Description',\n",
    "    icon='square' # (FontAwesome names without the `fa-` prefix)\n",
    ")\n",
    "\n",
    "\n",
    "# Display function\n",
    "# ================\n",
    "def view(button):\n",
    "    cap = cv2.VideoCapture(0)\n",
    "    display_handle=display(None, display_id=True)\n",
    "    i = 0\n",
    "    while True:\n",
    "        _, frame = cap.read()\n",
    "        frame = cv2.flip(frame, 1) # if your camera reverses your image\n",
    "        _, frame = cv2.imencode('.jpeg', frame)\n",
    "        display_handle.update(Image(data=frame.tobytes()))\n",
    "        if stopButton.value==True:\n",
    "            cap.release()\n",
    "            display_handle.update(None)\n",
    "\n",
    "            \n",
    "# Run\n",
    "# ================\n",
    "display(stopButton)\n",
    "thread = threading.Thread(target=view, args=(stopButton,))\n",
    "thread.start()"
   ]
  },
  {
   "cell_type": "markdown",
   "id": "5d212081-4d57-4e03-a5a9-63f2e952b29c",
   "metadata": {},
   "source": [
    "Et voilà! The output looks like this"
   ]
  },
  {
   "cell_type": "markdown",
   "id": "14b3c5d8-ee28-488e-a4ec-022626d60358",
   "metadata": {},
   "source": [
    "![webcam capture](webcam_shot.png)\n",
    "hmmmm.... What an insightful blogpost"
   ]
  }
 ],
 "metadata": {
  "kernelspec": {
   "display_name": "Python 3",
   "language": "python",
   "name": "python3"
  },
  "language_info": {
   "codemirror_mode": {
    "name": "ipython",
    "version": 3
   },
   "file_extension": ".py",
   "mimetype": "text/x-python",
   "name": "python",
   "nbconvert_exporter": "python",
   "pygments_lexer": "ipython3",
   "version": "3.9.6"
  }
 },
 "nbformat": 4,
 "nbformat_minor": 5
}
