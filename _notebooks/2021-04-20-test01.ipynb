{
 "cells": [
  {
   "cell_type": "markdown",
   "id": "b1c3a5dd",
   "metadata": {},
   "source": [
    "<p style=\"coloe:darkred; font-family:Futura; font-size:50px; text-align:center\">WaiDatathon 2021: \"Combat domestic violence with data and AI\"</p>   "
   ]
  },
  {
   "cell_type": "markdown",
   "id": "3e573f34",
   "metadata": {},
   "source": [
    "# Content\n",
    "\n",
    "1. #### [Problem description](#prob)\n",
    "1. #### [Setup](#setup)\n",
    "1. #### [Acceptability vs experience of domestic violence](#acc_vs_exp)\n",
    "1. #### [Analysis of the DHS women questionnaireAnalysis of the DHS women questionnaire](#DHS)\n",
    "    1. #### [Feature selection](#feat)\n",
    "    1. #### [Data cleaning](#clean)\n",
    "    1. #### [Exploratory data analysis](#EDA)\n",
    "1. #### [Modeling](#model)\n",
    "    1. #### [Data cleaning](#clean)\n",
    "    1. #### [Feature predictivity](#feature)\n",
    "    1. #### [Model training](#train)\n",
    "    1. #### [Final result: personalized questionnaire](#result)\n",
    "    1. #### [Discussion](#discuss)\n",
    "1. #### [Conclusion](#concl)    "
   ]
  },
  {
   "cell_type": "markdown",
   "id": "29ba8d20",
   "metadata": {},
   "source": [
    "<a id=\"prob\"></a>\n",
    "<p style=\"color:darkred; font-family:Futura; font-size:40px\">1. Problem description</p>\n",
    "\n",
    "The WaiDatathon 2021 was organized by Women in AI on the theme [\"Combat Domestic Violence with Data & AI\"](https://www.womeninai.co/waidatathon-details). This notebook reproduces our main analysis for which we earned the first place at the competition.\n",
    "\n",
    "Many professionals including social workers, medical professionals, academics, politicians or police agents are working daily to help women in abusive relationships, raise awareness in the general public and overall fight this phenomenon. Despite their efforts domestic violence is still a critical but hidden problem all around the world. When approaching this challenge it was clear for us that no amount of machine learning would solve the problem. Domestic violence is a sensitive and emotional topic for the victims. One of machine learning greatest strength is its ability to automate complex tasks, but domestic violence is a deeply human problem, and we believe that humans are the most important part of the support mechanism. \n",
    "\n",
    "Three human parties are involved in domestic violence: the victim, the abuser and the supporters. We approached the challenge in two parts. Firstly, we addressed the victim's point of view. In particular, we tried to understand the relationships between the attitudes toward domestic and its occurence, and how these are affected by demographic characteristics. Secondly, we tried to provide an additional tools to supporters in order to detect women in danger. For this purpose we proposed a machine learning model that creates a questionnaire to detect early signs of domestic violence. Because the model can be deployed on paper or by dialogue, it is especially suited for developing countries. \n",
    "\n",
    "You can watch our 5-minute competition talk [here](https://lnkd.in/gBupkte)."
   ]
  }
 ],
 "metadata": {
  "kernelspec": {
   "display_name": "Python 3",
   "language": "python",
   "name": "python3"
  },
  "language_info": {
   "codemirror_mode": {
    "name": "ipython",
    "version": 3
   },
   "file_extension": ".py",
   "mimetype": "text/x-python",
   "name": "python",
   "nbconvert_exporter": "python",
   "pygments_lexer": "ipython3",
   "version": "3.8.0"
  }
 },
 "nbformat": 4,
 "nbformat_minor": 5
}
