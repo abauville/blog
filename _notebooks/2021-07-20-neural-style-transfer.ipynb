{
 "cells": [
  {
   "cell_type": "markdown",
   "id": "35abe7f9-09b0-4b91-8378-3a63dd1b66da",
   "metadata": {
    "id": "35abe7f9-09b0-4b91-8378-3a63dd1b66da"
   },
   "source": [
    "# Neural style transfer\n",
    "\n",
    "- description: \"Neural style transfer with PyTorch\"\n",
    "- toc: false\n",
    "- branch: master\n",
    "- badges: true\n",
    "- comments: true\n",
    "- categories: [deep-learning, PyTorch, computer-vision, from scratch]\n",
    "- image: images/Covers/2021_07_20.png\n",
    "- hide: false\n",
    "- search_exclude: true\n",
    "- metadata_key1: metadata_value1\n",
    "- metadata_key2: metadata_value2"
   ]
  },
  {
   "cell_type": "markdown",
   "id": "6537dbc1-ad60-4efd-b80f-95376fdc11a2",
   "metadata": {
    "id": "6537dbc1-ad60-4efd-b80f-95376fdc11a2"
   },
   "source": [
    "# Neural style transfer\n",
    "\n",
    "Neural style transfer is the application of deep learning to the task of texture transfer. The goal is to transfer some characteristics of a *style image* (e.g. a painting) onto a *content image*. The technique can be used for artistic purpose or to enhance the *content image* with missing information, e.g. in super-resolution applications. \n",
    "\n",
    "**NOTE: here insert an illustration**\n",
    "\n",
    "\n",
    "Here, I will mostly follow the original implementation by [Gatys et al. (2016)](https://www.cv-foundation.org/openaccess/content_cvpr_2016/papers/Gatys_Image_Style_Transfer_CVPR_2016_paper.pdf), and complement it with several \n",
    "improvements suggested in the literature. In Gatys et al.'s algorithm the *content* and *style* images are passed through a pretrained convolutional neural network (e.g. VGG19). The feature maps that result from the various convolution operations contain increasingly abstract representations of the original images. Thus, working with feature maps rather the the original image offers a more flexible way of combining them. From these feature maps, the algorithm performs three steps:\n",
    "\n",
    "1. feature inversion (see my previous [blogpost](https://abauville.github.io/blog/deep-learning/pytorch/computer-vision/from%20scratch/2021/07/16/feature-inversion.html))\n",
    "2. style extraction\n",
    "3. merging the *content image* with the style of the *style image*.\n",
    "\n",
    "According to Wikipedia:  \"In the visual arts, style is a \"...distinctive manner which permits the grouping of works into related categories\"[1] or \"...any distinctive, and therefore recognizable, way in which an act is performed or an artifact made or ought to be performed and made\".[2]\" For the purpose of style transfer, however, we need to define the style of a single image. A way to describe is the ensemble of characteristic visual elements (colors, lines, shapes, ...) and their relation to each other. Mathematically, this definition of style is capture using a [Gram matrix](https://en.wikipedia.org/wiki/Gram_matrix) which is, essentially, a correlation matrix of the feature maps for a given layer.\n",
    "\n",
    "The overall code architecture is identical to the [feature inversion algorithm](https://abauville.github.io/blog/deep-learning/pytorch/computer-vision/from%20scratch/2021/07/16/feature-inversion.html), with added functionality for computing gram matrices, and to compute losses with respect to both the content image and the style image.\n",
    "\n",
    "References: \n",
    "- [1] Fernie, Eric. Art History and its Methods: A critical anthology. London: Phaidon, 1995, p. 361. ISBN 978-0-7148-2991-3\n",
    "- [2] Gombrich, 150"
   ]
  },
  {
   "cell_type": "markdown",
   "id": "d23acfa4-e8dc-4aa7-af33-cbb593f19753",
   "metadata": {
    "id": "d23acfa4-e8dc-4aa7-af33-cbb593f19753"
   },
   "source": [
    "# Setup\n",
    "\n",
    "We start by importing the necessary libraries"
   ]
  },
  {
   "cell_type": "code",
   "execution_count": 4,
   "id": "878aa2c5-0e9b-4949-b5a8-ba7c91cbcb3e",
   "metadata": {
    "colab": {
     "base_uri": "https://localhost:8080/"
    },
    "executionInfo": {
     "elapsed": 22565,
     "status": "ok",
     "timestamp": 1626761852353,
     "user": {
      "displayName": "Arthur Bauville",
      "photoUrl": "",
      "userId": "13412020910432312638"
     },
     "user_tz": -540
    },
    "id": "878aa2c5-0e9b-4949-b5a8-ba7c91cbcb3e",
    "outputId": "d66907dc-5e37-45bc-ee58-70f52cafbc37"
   },
   "outputs": [
    {
     "name": "stdout",
     "output_type": "stream",
     "text": [
      "Mounted at /content/drive\n"
     ]
    }
   ],
   "source": [
    "# Imports\n",
    "import torch\n",
    "import torchvision\n",
    "from torch import nn\n",
    "import skimage\n",
    "from skimage import transform\n",
    "from skimage import io\n",
    "# from im_func import show_image, timer\n",
    "import numpy as np\n",
    "import matplotlib.pyplot as plt\n",
    "from IPython.display import display, clear_output\n",
    "import torch.nn.functional as F\n",
    "import torchvision.transforms.functional as TF\n",
    "\n",
    "use_drive = True\n",
    "if use_drive:\n",
    "    from google.colab import drive\n",
    "    drive.mount('/content/drive')"
   ]
  },
  {
   "cell_type": "markdown",
   "id": "AIriGZFSwulg",
   "metadata": {
    "id": "AIriGZFSwulg"
   },
   "source": [
    "# Image class\n",
    "\n",
    "The image class handles, pre/post-processing and image augmentation (jittering, rotation)."
   ]
  },
  {
   "cell_type": "code",
   "execution_count": 5,
   "id": "e4c22e8f-37a3-4f52-9f8e-e0701e6863c2",
   "metadata": {
    "executionInfo": {
     "elapsed": 5,
     "status": "ok",
     "timestamp": 1626761852354,
     "user": {
      "displayName": "Arthur Bauville",
      "photoUrl": "",
      "userId": "13412020910432312638"
     },
     "user_tz": -540
    },
    "id": "e4c22e8f-37a3-4f52-9f8e-e0701e6863c2"
   },
   "outputs": [],
   "source": [
    "rgb_mean = torch.tensor([0.485, 0.456, 0.406]) # Fixed values for PyTorch pretrained models\n",
    "rgb_std = torch.tensor([0.229, 0.224, 0.225])\n",
    "\n",
    "class Image(nn.Module):\n",
    "    def __init__(self, img=None, optimizable=True, img_shape=[64,64], jit_max=2, angle_max=2.0, shift_ini_i=0, shift_ini_j=0, random_seed=42):\n",
    "        super(Image,self).__init__()\n",
    "        \n",
    "        self.img_shape = img_shape\n",
    "        \n",
    "        if type(img)==type(None):\n",
    "            torch.manual_seed(random_seed)\n",
    "            self.img = torch.rand([1, 3] + self.img_shape)\n",
    "        else:\n",
    "            self.img = img\n",
    "            self.img = self.preprocess()\n",
    "            self.img = self.jitter_transform(self.img,0,shift_ini_i, shift_ini_j)\n",
    "        if optimizable == True:\n",
    "            self.img = nn.Parameter(self.img)\n",
    "         \n",
    "        self.jit_i = 0\n",
    "        self.jit_j = 0\n",
    "        self.jit_max = jit_max\n",
    "        self.angle = 0.0\n",
    "        self.angle_max = angle_max\n",
    "\n",
    "        \n",
    "    def preprocess(self):\n",
    "        with torch.no_grad():\n",
    "            transforms = torchvision.transforms.Compose([\n",
    "                torchvision.transforms.ToPILImage(),\n",
    "                torchvision.transforms.Resize(self.img_shape),\n",
    "                torchvision.transforms.ToTensor(),\n",
    "            ])\n",
    "            return transforms(self.img).unsqueeze(0)\n",
    "            \n",
    "\n",
    "    def postprocess(self):\n",
    "        with torch.no_grad():\n",
    "            img = self.img.data[0].to(rgb_std.device).clone()\n",
    "            img.clamp_(0, 1)\n",
    "            return torchvision.transforms.ToPILImage()(img.permute(1, 2, 0).permute(2, 0, 1))\n",
    "          \n",
    "    def jitter_transform(self,img,angle,jit_i, jit_j):\n",
    "        return torchvision.transforms.functional.affine(img, angle=angle, translate=(jit_i/self.img_shape[1], jit_j/self.img_shape[0]), scale=1., shear=[0.0,0.0])\n",
    "        \n",
    "    def jittered_image(self):\n",
    "        with torch.no_grad():\n",
    "            jit_max = 2\n",
    "            temp = np.random.standard_normal(2)*2.0\n",
    "            self.jit_i += temp[0]\n",
    "            self.jit_j += temp[1]\n",
    "\n",
    "            self.angle += np.random.standard_normal(1)[0]*1.0\n",
    "            self.angle = np.clip(self.angle,-self.angle_max,self.angle_max)\n",
    "            self.jit_i, self.jit_j = np.clip([self.jit_i, self.jit_j],-self.jit_max,self.jit_max)#.astype(int)\n",
    "            print(self.angle, self.jit_i, self.jit_j, temp)\n",
    "            return self.jitter_transform(self.img.data,self.angle,self.jit_i, self.jit_j) \n",
    "        \n",
    "    def forward(self, jitter=False):\n",
    "        self.img.data.clamp_(0, 1)\n",
    "        if jitter:\n",
    "            return self.jittered_image().to(device)\n",
    "        else:\n",
    "            return self.img.to(device)\n",
    "            "
   ]
  },
  {
   "cell_type": "markdown",
   "id": "aYluJ_Lowwhe",
   "metadata": {
    "id": "aYluJ_Lowwhe"
   },
   "source": [
    "# Pretrained network\n",
    "\n",
    "Here, I use the VGG16 network"
   ]
  },
  {
   "cell_type": "code",
   "execution_count": 6,
   "id": "94d2ec43-9d5a-4c6c-8763-389e1d1886fd",
   "metadata": {
    "colab": {
     "base_uri": "https://localhost:8080/",
     "height": 644,
     "referenced_widgets": [
      "a4b7374c1fce43a5aaf28728f7a72112",
      "df848183e14146dc9551b1ab26670a24",
      "7c0d2b5beb6a4e20b03dd1ef288657c2",
      "8ea8e6f74d454586889059a72887d213",
      "3976dac84d7442b1ad46235f560a5200",
      "63151ad892c044a185f41ecd4eb4c8a7",
      "cf247979241d4edb9ba5ec291fcbe245",
      "45d714d190b54792bb2621b9b4aed840"
     ]
    },
    "executionInfo": {
     "elapsed": 7034,
     "status": "ok",
     "timestamp": 1626761859384,
     "user": {
      "displayName": "Arthur Bauville",
      "photoUrl": "",
      "userId": "13412020910432312638"
     },
     "user_tz": -540
    },
    "id": "94d2ec43-9d5a-4c6c-8763-389e1d1886fd",
    "outputId": "289f38e5-4353-4ff4-ea4a-7b199ae8e1f2"
   },
   "outputs": [
    {
     "name": "stderr",
     "output_type": "stream",
     "text": [
      "Downloading: \"https://download.pytorch.org/models/vgg16-397923af.pth\" to /root/.cache/torch/hub/checkpoints/vgg16-397923af.pth\n"
     ]
    },
    {
     "data": {
      "application/vnd.jupyter.widget-view+json": {
       "model_id": "a4b7374c1fce43a5aaf28728f7a72112",
       "version_major": 2,
       "version_minor": 0
      },
      "text/plain": [
       "HBox(children=(FloatProgress(value=0.0, max=553433881.0), HTML(value='')))"
      ]
     },
     "metadata": {
      "tags": []
     },
     "output_type": "display_data"
    },
    {
     "name": "stdout",
     "output_type": "stream",
     "text": [
      "\n"
     ]
    },
    {
     "data": {
      "text/plain": [
       "Sequential(\n",
       "  (0): Conv2d(3, 64, kernel_size=(3, 3), stride=(1, 1), padding=(1, 1))\n",
       "  (1): ReLU(inplace=True)\n",
       "  (2): Conv2d(64, 64, kernel_size=(3, 3), stride=(1, 1), padding=(1, 1))\n",
       "  (3): ReLU(inplace=True)\n",
       "  (4): MaxPool2d(kernel_size=2, stride=2, padding=0, dilation=1, ceil_mode=False)\n",
       "  (5): Conv2d(64, 128, kernel_size=(3, 3), stride=(1, 1), padding=(1, 1))\n",
       "  (6): ReLU(inplace=True)\n",
       "  (7): Conv2d(128, 128, kernel_size=(3, 3), stride=(1, 1), padding=(1, 1))\n",
       "  (8): ReLU(inplace=True)\n",
       "  (9): MaxPool2d(kernel_size=2, stride=2, padding=0, dilation=1, ceil_mode=False)\n",
       "  (10): Conv2d(128, 256, kernel_size=(3, 3), stride=(1, 1), padding=(1, 1))\n",
       "  (11): ReLU(inplace=True)\n",
       "  (12): Conv2d(256, 256, kernel_size=(3, 3), stride=(1, 1), padding=(1, 1))\n",
       "  (13): ReLU(inplace=True)\n",
       "  (14): Conv2d(256, 256, kernel_size=(3, 3), stride=(1, 1), padding=(1, 1))\n",
       "  (15): ReLU(inplace=True)\n",
       "  (16): MaxPool2d(kernel_size=2, stride=2, padding=0, dilation=1, ceil_mode=False)\n",
       "  (17): Conv2d(256, 512, kernel_size=(3, 3), stride=(1, 1), padding=(1, 1))\n",
       "  (18): ReLU(inplace=True)\n",
       "  (19): Conv2d(512, 512, kernel_size=(3, 3), stride=(1, 1), padding=(1, 1))\n",
       "  (20): ReLU(inplace=True)\n",
       "  (21): Conv2d(512, 512, kernel_size=(3, 3), stride=(1, 1), padding=(1, 1))\n",
       "  (22): ReLU(inplace=True)\n",
       "  (23): MaxPool2d(kernel_size=2, stride=2, padding=0, dilation=1, ceil_mode=False)\n",
       "  (24): Conv2d(512, 512, kernel_size=(3, 3), stride=(1, 1), padding=(1, 1))\n",
       "  (25): ReLU(inplace=True)\n",
       "  (26): Conv2d(512, 512, kernel_size=(3, 3), stride=(1, 1), padding=(1, 1))\n",
       "  (27): ReLU(inplace=True)\n",
       "  (28): Conv2d(512, 512, kernel_size=(3, 3), stride=(1, 1), padding=(1, 1))\n",
       "  (29): ReLU(inplace=True)\n",
       "  (30): MaxPool2d(kernel_size=2, stride=2, padding=0, dilation=1, ceil_mode=False)\n",
       ")"
      ]
     },
     "metadata": {
      "tags": []
     },
     "output_type": "display_data"
    }
   ],
   "source": [
    "pretrained_net = torchvision.models.vgg16(pretrained=True)#.features.to(device).eval()\n",
    "display(pretrained_net.features)"
   ]
  },
  {
   "cell_type": "markdown",
   "id": "-1M4iEFLw5y7",
   "metadata": {
    "id": "-1M4iEFLw5y7"
   },
   "source": [
    "# SmallNet class\n",
    "\n",
    "I subset the pretrained network to compute only the required layers and return the feature maps of a small selection of layers."
   ]
  },
  {
   "cell_type": "code",
   "execution_count": 7,
   "id": "d4d6fc89-75f1-4300-8691-1daca508396a",
   "metadata": {
    "executionInfo": {
     "elapsed": 4,
     "status": "ok",
     "timestamp": 1626761859384,
     "user": {
      "displayName": "Arthur Bauville",
      "photoUrl": "",
      "userId": "13412020910432312638"
     },
     "user_tz": -540
    },
    "id": "d4d6fc89-75f1-4300-8691-1daca508396a"
   },
   "outputs": [],
   "source": [
    "class SmallNet(nn.Module):\n",
    "    def __init__(self, pretrained_net, last_layer):\n",
    "        super(SmallNet,self).__init__()\n",
    "        self.net= nn.Sequential(*([torchvision.transforms.Normalize(mean=rgb_mean, std=rgb_std)] + \n",
    "                     [pretrained_net.features[i]\n",
    "                            for i in range(last_layer + 1)])).to(device).eval()\n",
    "\n",
    "        \n",
    "    def forward(self, X, extract_layers, gram=False):\n",
    "        # Passes the image X through the pretrained network and \n",
    "        # returns a list containing the feature maps of layers specified in the list extract_layers\n",
    "        detach = not(X.requires_grad) # We don't want to keep track of the gradients on the content image\n",
    "        feature_maps = {}\n",
    "        for il in range(len(self.net)):\n",
    "            X = self.net[il](X)\n",
    "            if (il-1 in extract_layers): # note: il-1 because I added a normalization layer before the pretrained net in self.net\n",
    "                if detach:\n",
    "                    feature_maps[il-1] = X.clone().detach()\n",
    "                else:\n",
    "                    feature_maps[il-1] = X.clone()\n",
    "        return feature_maps"
   ]
  },
  {
   "cell_type": "markdown",
   "id": "mmG2-_mM4qU2",
   "metadata": {
    "id": "mmG2-_mM4qU2"
   },
   "source": [
    "# Losses class\n",
    "\n",
    "Losses include:\n",
    "\n",
    "- *content loss*: mean squared error (MSE) between the feature maps of the content image and the ones of the generated image. \n",
    "- *style loss*: MSE between Gram matrices of style and generated images\n",
    "- *intensity loss* and *total variation loss*: regularization to avoid spurious noise.\n",
    "\n",
    "Loss can be computed with respect to  several *content* and *style* images at once. Using several images with affine transformations is another way to perform jittering. The inconvenient is that this approach takes more memory, but in exchange, all feature maps and grams matrices for the *content* and *style* images can be precomputed. I implemented the technique described into by [Berger and Memisevic (2015)](https://arxiv.org/abs/1606.01286) to improve the long range consistency of the style inversion. In this technique, additional gram matrices between shifted feature maps are performed to take into account the spatial correlation among feature maps."
   ]
  },
  {
   "cell_type": "code",
   "execution_count": 8,
   "id": "49346faf-00f5-4494-94c4-46e461f8125c",
   "metadata": {
    "executionInfo": {
     "elapsed": 428,
     "status": "ok",
     "timestamp": 1626761859809,
     "user": {
      "displayName": "Arthur Bauville",
      "photoUrl": "",
      "userId": "13412020910432312638"
     },
     "user_tz": -540
    },
    "id": "49346faf-00f5-4494-94c4-46e461f8125c"
   },
   "outputs": [],
   "source": [
    "class Losses(nn.Module):\n",
    "    def __init__(self, img_ref, \n",
    "                 content_weight=1.0, style_weight=1.0, tv_weight=0.0, int_weight=0.0, \n",
    "                 alpha=6, beta=1.5):\n",
    "        # img_ref is used to compute a reference total variation and reference intensity\n",
    "        # tv_weight: weight of the total variation regularizer\n",
    "        # int_weight: weight of the intensity regularizer\n",
    "        # alpha: exponent for the intensity regularizer\n",
    "        # beta: exponent for the total variation regularizer\n",
    "        super(Losses,self).__init__()\n",
    "        self.content_weight = content_weight\n",
    "        self.style_weight   = style_weight\n",
    "        self.tv_weight      = tv_weight\n",
    "        self.int_weight     = int_weight\n",
    "\n",
    "        self.content_loss   = 0.0\n",
    "        self.style_loss     = 0.0\n",
    "        self.tv_loss        = 0.0\n",
    "        self.int_loss       = 0.0\n",
    "        self.total_loss     = 0.0\n",
    "\n",
    "        self.last_content_loss   = 1e10\n",
    "        self.last_style_loss     = 1e10\n",
    "        self.last_tv_loss        = 1e10\n",
    "        self.last_int_loss       = 1e10\n",
    "        self.last_clamp_loss       = 0.0\n",
    "        self.last_total_loss     = 1e10\n",
    "        \n",
    "        self.alpha          = alpha\n",
    "        self.beta           = beta\n",
    "        \n",
    "        self.B, self.V      = self.get_regularizer_refs(img_ref)\n",
    "      \n",
    "\n",
    "    def get_content_loss(self, Y_hat, Y, reduction='mean'):\n",
    "        # Mean squared error between generated and content image\n",
    "        loss = 0\n",
    "        count = 0\n",
    "        for key, y in Y.items():\n",
    "            if key in Y_hat.keys():\n",
    "                y_hat = Y_hat[key]\n",
    "                loss += F.mse_loss(y_hat, \n",
    "                             y.detach(),reduction=reduction)\n",
    "                count += 1\n",
    "        return loss/count\n",
    "\n",
    "    def get_gram(self, feature_map, delta=0, dir=0):\n",
    "        # delta is a translation for longd-distance cross correlation, see: https://arxiv.org/pdf/1606.01286.pdf\n",
    "        # dir is the direction (0=x; 1=y) in which the cross correlation is computed\n",
    "        a, b, c, d = feature_map.size()  # a=batch size(=1)\n",
    "        pad = delta\n",
    "        \n",
    "\n",
    "        if delta==0:\n",
    "            features = feature_map.view(a * b, c * d)  # resise F_XL into \\hat F_XL\n",
    "            # G = torch.mm(features, features.t())  # compute the gram product\n",
    "            G = torch.mm(features, features.t())  # compute the gram product\n",
    "        else: \n",
    "            if dir==0:\n",
    "                fm_pad = F.pad(feature_map, [pad,pad,0,0])\n",
    "                fm_minus_delta = fm_pad[:,:,pad-delta : pad-delta+c, :].clone()\n",
    "                fm_plus_delta  = fm_pad[:,:,pad+delta : pad+delta+c, :].clone()\n",
    "            elif dir==1:\n",
    "                fm_pad = F.pad(feature_map, [0,0,pad,pad])\n",
    "                fm_minus_delta = fm_pad[:,:,:, pad-delta : pad-delta+d].clone()\n",
    "                fm_plus_delta  = fm_pad[:,:,:, pad+delta : pad+delta+d].clone()\n",
    "            else: \n",
    "                raise ValueError(f\"unknown dir {dir}, accepted values are 0 or 1\")\n",
    "\n",
    "            fm_minus_delta = feature_map.view(a * b, c * d)  # resise F_XL into \\hat F_XL\n",
    "            fm_plus_delta = feature_map.view(a * b, c * d)\n",
    "            \n",
    "            G = torch.mm(fm_minus_delta, fm_plus_delta.t())  # compute the gram product\n",
    "        return G.div(a * b * c * d)\n",
    "   \n",
    "    \n",
    "    def get_style_loss(self, Y_hat, Y, reduction='sum', deltas=[], stride=1):\n",
    "        # Y_hat is the generated image's feature map\n",
    "        # Y is the style image's feature map\n",
    "        loss = 0\n",
    "        count = 0\n",
    "        for key, y in Y.items():\n",
    "            if key in Y_hat.keys():\n",
    "                y_hat = Y_hat[key]\n",
    "\n",
    "                G = self.get_gram(y_hat)\n",
    "                A = self.get_gram(y)\n",
    "                Lstyle = F.mse_loss(G, A.detach(),reduction='sum')\n",
    "                Lcc = 0\n",
    "                fac_sum = 1.0\n",
    "                for i, delta in enumerate(deltas):\n",
    "                    A_x = self.get_gram(y,delta=delta,dir=0)\n",
    "                    A_y = self.get_gram(y,delta=delta,dir=1)\n",
    "                    \n",
    "                    fac = 1.0/(1.0+i) \n",
    "                    Lcc += fac * 0.5 * ( F.mse_loss(G, A_x.detach(),reduction='sum')\n",
    "                                            + F.mse_loss(G, A_y.detach(),reduction='sum'))\n",
    "                    fac_sum += fac\n",
    "\n",
    "                loss += (Lstyle+Lcc)/fac_sum\n",
    "                count += 1\n",
    "\n",
    "        return loss/count\n",
    "    \n",
    "    def get_regularizer_refs(self, img):\n",
    "        eps = 1e-10\n",
    "        L2 = torch.sqrt(img[:,0,:,:]**2 + img[:,1,:,:]**2 + img[:,2,:,:]**2 + eps)\n",
    "        B = L2.mean()\n",
    "\n",
    "        d_dx = img[:,:,1:,:]-img[:,:,:-1,:]\n",
    "        d_dy = img[:,:,:,1:]-img[:,:,:,:-1]\n",
    "        L2 = torch.sqrt(d_dx[:,:,:,1:]**2 + d_dy[:,:,1:,:]**2 + eps)\n",
    "        V = L2.mean()\n",
    "        return B, V\n",
    "\n",
    "    def get_int_loss(self, img):\n",
    "        # Intensity loss\n",
    "        H = img.shape[2]\n",
    "        W = img.shape[3]\n",
    "        C = img.shape[1]\n",
    "        eps = 1e-10\n",
    "        L2 = torch.sqrt(img[:,0,:,:]**2 + img[:,1,:,:]**2 + img[:,2,:,:]**2 + eps)\n",
    "        \n",
    "        loss = 1./H/W/C/(self.B**self.alpha) * torch.sum(L2**self.alpha)\n",
    "        \n",
    "        return loss\n",
    "\n",
    "    def get_tv_loss(self, img):\n",
    "        # Total variation loss\n",
    "        H = img.shape[2]\n",
    "        W = img.shape[3]\n",
    "        C = img.shape[1]\n",
    "        eps = 1e-10 # avoids accidentally taking the sqrt of a negative number because of rounding errors\n",
    "\n",
    "        # # total variation\n",
    "        d_dx = img[:,:,1:,:]-img[:,:,:-1,:]\n",
    "        d_dy = img[:,:,:,1:]-img[:,:,:,:-1]\n",
    "        # I ignore the first row or column of the image when computing the norm, in order to have vectors with matching sizes\n",
    "        # Thus, d_dx and d_dy are not strictly colocated, but that should be a good enough approximation because neighbouring pixels are correlated\n",
    "        L2 = torch.sqrt(d_dx[:,:,:,1:]**2 + d_dy[:,:,1:,:]**2 + eps)\n",
    "        TV = torch.sum(L2**self.beta) # intensity regularizer\n",
    "\n",
    "        loss = 1./H/W/C/(self.V**self.beta) * TV\n",
    "#         loss = 1./H/W * (torch.sum(d_dx**2) + torch.sum(d_dy**2))\n",
    "        return loss\n",
    "    \n",
    "\n",
    "    def forward(self,img,feature_map_gen, feature_map_content, feature_map_style, content_weights,style_deltas=[]):\n",
    "        self.content_loss, w_sum = 0, 0\n",
    "        for fm_content, w in zip(feature_map_content, content_weights):\n",
    "                self.content_loss += self.get_content_loss(feature_map_gen, fm_content,reduction='mean')        \n",
    "                w_sum += w\n",
    "        self.content_loss /= w_sum\n",
    "\n",
    "        self.style_loss, count = 0, 0\n",
    "        for fm_style in feature_map_style:\n",
    "            self.style_loss += self.get_style_loss(feature_map_gen, fm_style,reduction='sum',deltas=style_deltas)\n",
    "            count += 1\n",
    "        self.style_loss /= count\n",
    "\n",
    "        self.int_loss = self.get_int_loss(img)\n",
    "        self.tv_loss = self.get_tv_loss(img)\n",
    "        \n",
    "        self.total_loss = ( self.content_weight*self.content_loss\n",
    "                    + self.style_weight*self.style_loss \n",
    "                    + self.int_weight*self.int_loss \n",
    "                    + self.tv_weight*self.tv_loss )\n",
    "        \n",
    "        \n",
    "        return self.total_loss"
   ]
  },
  {
   "cell_type": "markdown",
   "id": "_i4eIpMmw-ey",
   "metadata": {
    "id": "_i4eIpMmw-ey"
   },
   "source": [
    "# Device setup"
   ]
  },
  {
   "cell_type": "code",
   "execution_count": 9,
   "id": "eEA1laPO7gVX",
   "metadata": {
    "colab": {
     "base_uri": "https://localhost:8080/"
    },
    "executionInfo": {
     "elapsed": 4,
     "status": "ok",
     "timestamp": 1626761859809,
     "user": {
      "displayName": "Arthur Bauville",
      "photoUrl": "",
      "userId": "13412020910432312638"
     },
     "user_tz": -540
    },
    "id": "eEA1laPO7gVX",
    "outputId": "5d50df02-56db-4d22-9d10-950863be08ee"
   },
   "outputs": [
    {
     "name": "stdout",
     "output_type": "stream",
     "text": [
      "Using device: cuda\n",
      "\n",
      "Tesla K80\n",
      "Memory Usage:\n",
      "Allocated: 0.0 GB\n",
      "Cached:    0.0 GB\n"
     ]
    }
   ],
   "source": [
    "# setting device on GPU if available, else CPU\n",
    "device = torch.device('cuda' if torch.cuda.is_available() else 'cpu')\n",
    "print('Using device:', device)\n",
    "print()\n",
    "\n",
    "#Additional Info when using cuda\n",
    "if device.type == 'cuda':\n",
    "    print(torch.cuda.get_device_name(0))\n",
    "    print('Memory Usage:')\n",
    "    print('Allocated:', round(torch.cuda.memory_allocated(0)/1024**3,1), 'GB')\n",
    "    print('Cached:   ', round(torch.cuda.memory_reserved(0)/1024**3,1), 'GB')"
   ]
  },
  {
   "cell_type": "markdown",
   "id": "cvkQB8w94i4S",
   "metadata": {
    "id": "cvkQB8w94i4S"
   },
   "source": [
    "# Training setup\n",
    "\n",
    "Here, I create *content*, *style* and *generated* images by instantiating the `Image` class. I include several images for *content* to take into account local correlations (alternative to jittering the image). I also take one or several *style* images to extract characteristic features at different scales (see the Results section). I also initialize the optimizer, scheduler and loss functions."
   ]
  },
  {
   "cell_type": "code",
   "execution_count": 22,
   "id": "1bbaa1ef-6137-49f5-b0c3-c5b179695e86",
   "metadata": {
    "colab": {
     "base_uri": "https://localhost:8080/",
     "height": 232
    },
    "executionInfo": {
     "elapsed": 9493,
     "status": "ok",
     "timestamp": 1626766005653,
     "user": {
      "displayName": "Arthur Bauville",
      "photoUrl": "",
      "userId": "13412020910432312638"
     },
     "user_tz": -540
    },
    "id": "1bbaa1ef-6137-49f5-b0c3-c5b179695e86",
    "outputId": "1c4b3b26-8631-4c9a-ea22-90e56896e653"
   },
   "outputs": [
    {
     "data": {
      "image/png": "[encoded data removed]",
      "text/plain": [
       "<Figure size 360x360 with 2 Axes>"
      ]
     },
     "metadata": {
      "needs_background": "light",
      "tags": []
     },
     "output_type": "display_data"
    }
   ],
   "source": [
    "# Download images \n",
    "# ===================\n",
    "content_im = skimage.io.imread(\"https://github.com/abauville/Neural_style_transfer/blob/main/Data/IMG_20210617_094559.jpg?raw=true\")\n",
    "style_im = skimage.io.imread(\"https://github.com/abauville/Neural_style_transfer/blob/main/Data/matisse_cat.jpeg?raw=true\")\n",
    "\n",
    "# Show\n",
    "fig, ax = plt.subplots(1,2,figsize=[5,5])\n",
    "plt.sca(ax[0])\n",
    "plt.imshow(content_im); plt.title(\"content\"); _ = plt.axis(\"off\")\n",
    "plt.sca(ax[1])\n",
    "plt.imshow(style_im); plt.title(\"style\"); _ = plt.axis(\"off\")\n",
    "\n",
    "# Choose layers\n",
    "# ===================\n",
    "content_layer = [7]\n",
    "style_layers  = [2, 7, 14, 21, 28]\n",
    "\n",
    "all_layers = list(set(content_layer+style_layers))\n",
    "all_layers.sort()\n",
    "\n",
    "# Generated image\n",
    "# ===================\n",
    "aspect_ratio = content_im.shape[1]/content_im.shape[0]\n",
    "content_res = 512\n",
    "# img_gen = Image(None, optimizable=True, img_shape=[content_res,int(content_res*aspect_ratio)]).to(device) # initialized with random noise\n",
    "# img_gen = Image(None, optimizable=True, img_shape=[content_res,int(content_res*aspect_ratio)]).to(device) # initialized with random noise\n",
    "\n",
    "# Style images\n",
    "# ===================\n",
    "style_list = []\n",
    "style_res_ref = 256\n",
    "for style_res in [style_res_ref]:\n",
    "# for style_res in [128, 256, 512]:\n",
    "    style_list.append(Image(img=style_im, optimizable=False, img_shape=[style_res, style_res],\n",
    "                    shift_ini_i=0, shift_ini_j=0).to(device))\n",
    "\n",
    "style_deltas = np.array([2, 4, 8, 16]) # relative shifts for the long range consistency algorithm of Berger and Memisevic (2015)\n",
    "\n",
    "# Content images\n",
    "# ===================\n",
    "content_list = []\n",
    "content_list_weights = []\n",
    "count = 0\n",
    "fm_content = []\n",
    "for i in [-2,-1,0,1,2]:\n",
    "    for j in [-2,-1,0,1,2]:\n",
    "        content_list.append(Image(img=content_im, optimizable=False, img_shape=[content_res,int(content_res*aspect_ratio)],\n",
    "                                    shift_ini_i=i, shift_ini_j=j).to(device))\n",
    "        content_list_weights.append(1.0/(1.0+np.sqrt(i**2 + j**2)))\n",
    "        if i==0 and j==0:\n",
    "            content_ref = count\n",
    "        count += 1\n",
    "content_list_weights = np.array(content_list_weights) # relative importance of feature maps in the loss calculation\n",
    "\n",
    "\n",
    "img_gen = Image(content_list[content_ref].img[0], optimizable=True, img_shape=[content_res,int(content_res*aspect_ratio)]).to(device) # initialized with random noise# SmallNet\n",
    "\n",
    "# Neural network\n",
    "# ===================\n",
    "net = SmallNet(pretrained_net, all_layers[-1])\n",
    "\n",
    "# Precompute feature maps\n",
    "# ===================\n",
    "fm_style = [net(img_s(), style_layers) for img_s in style_list]\n",
    "fm_content = [net(img_c(), content_layer) for img_c in content_list]\n",
    "\n",
    "# Losses\n",
    "# ===================\n",
    "loss_fn = Losses(style_list[0](),\n",
    "                 content_weight = 0.6,\n",
    "                 style_weight = 1.0,\n",
    "                 tv_weight=20.0, \n",
    "                 int_weight=0.5)\n",
    "\n",
    "# Optimizer, scheduler\n",
    "# ===================\n",
    "optimizer = torch.optim.LBFGS(img_gen.parameters(),lr=1.0)\n",
    "scheduler = torch.optim.lr_scheduler.StepLR(optimizer, step_size=5, gamma=0.8)\n",
    "abs_loss_limit = 1e-3\n",
    "rel_loss_limit = 1e-7"
   ]
  },
  {
   "cell_type": "markdown",
   "id": "NI3n9k9a48ui",
   "metadata": {
    "id": "NI3n9k9a48ui"
   },
   "source": [
    "# Training\n",
    "\n",
    "Here, I optimize the *generated* image and visualize the results."
   ]
  },
  {
   "cell_type": "code",
   "execution_count": 23,
   "id": "05038f8a-9d12-4d81-9df1-dca0b8be45d1",
   "metadata": {
    "executionInfo": {
     "elapsed": 3,
     "status": "ok",
     "timestamp": 1626766007500,
     "user": {
      "displayName": "Arthur Bauville",
      "photoUrl": "",
      "userId": "13412020910432312638"
     },
     "user_tz": -540
    },
    "id": "05038f8a-9d12-4d81-9df1-dca0b8be45d1"
   },
   "outputs": [],
   "source": [
    "fig, ax = plt.subplots(1,1,figsize=[10,10])\n",
    "optimizer = torch.optim.LBFGS(img_gen.parameters(),lr=0.1)\n",
    "def closure():\n",
    "    optimizer.zero_grad()\n",
    "    fm_gen = net(img_gen(), all_layers)\n",
    "\n",
    "    loss = loss_fn(img_gen(), fm_gen, fm_content, fm_style, \n",
    "                   content_list_weights, \n",
    "                   style_deltas=style_deltas)\n",
    "    loss.backward()\n",
    "    # nn.utils.clip_grad_norm_(img_gen.parameters(), 2.0)\n",
    "    nn.utils.clip_grad_value_(img_gen.parameters(), clip_value=1.0)\n",
    "    return loss\n",
    "\n",
    "last_loss = 1e10\n",
    "frame = 0\n",
    "for i in range(101,201):\n",
    "    optimizer.step(closure)\n",
    "    scheduler.step()\n",
    "    \n",
    "    if i%5==0:\n",
    "        with torch.no_grad():\n",
    "            plt.clf()\n",
    "#             plt.imshow(img_gen.postprocess())\n",
    "            plt.imshow(img_gen.postprocess())\n",
    "            \n",
    "            plt.title(f\"epoch {i:02}, content, tv, style, intensity losses:\" + \n",
    "                      f\"{loss_fn.content_weight*loss_fn.content_loss:.2e}, \" + \n",
    "                      f\"{loss_fn.style_weight*loss_fn.style_loss:.2e}, \" + \n",
    "                      f\"{loss_fn.tv_weight*loss_fn.tv_loss:.2e}, \" +\n",
    "                      f\"{loss_fn.int_weight*loss_fn.int_loss:.2e}, \" + \n",
    "                      f\"total:{loss_fn.total_loss:.2e}, abs: {torch.abs(last_loss-loss_fn.total_loss):.2e}\")\n",
    "\n",
    "            clear_output(wait = True)\n",
    "            display(fig)\n",
    "            \n",
    "            plt.savefig(f\"/content/drive/MyDrive/00_Data_science/Neural_style_transfer/Output/res_{style_res_ref}/Frame{frame:05d}\")\n",
    "            frame += 1\n",
    "        \n",
    "            if loss_fn.total_loss<abs_loss_limit:\n",
    "                clear_output(wait = True)\n",
    "                print(f'success: absolute loss limit ({abs_loss_limit:.1e}) reached')\n",
    "                break\n",
    "            if torch.abs(last_loss-loss_fn.total_loss)<rel_loss_limit:\n",
    "                clear_output(wait = True)\n",
    "                print(f'stopped because relative loss limit ({rel_loss_limit:.1e})  was reached')\n",
    "                break\n",
    "\n",
    "            if loss_fn.total_loss.isnan():\n",
    "                print(f'stopped because loss is NaN')\n",
    "                break\n",
    "                \n",
    "    last_loss = loss_fn.total_loss\n",
    "\n",
    "    "
   ]
  },
  {
   "cell_type": "markdown",
   "id": "ffdZULqfqzkP",
   "metadata": {
    "id": "ffdZULqfqzkP"
   },
   "source": [
    "# Results\n",
    "\n",
    "I perform several optimization with identic resolution of the *generated* and *content* images but different resolutions for the style image. As shown in the figure below, the style is expressed as patterns whose characteristic scale is proportional to the resolution. In the rightmost subfigure, I used three style images during the inversion to obtain patterns of different scales.\n",
    "\n",
    "<figure>\n",
    "    <img src=\"https://github.com/abauville/blog/raw/master/images/2021_07_20_neural_style_transfer/Figure_01.png\" alt='neural style transfer with different style resolutions' />\n",
    "    <figcaption>Fig. 1. Results of the neural style transfer optimization using different resolutions of the style image. The characteristic scale of patterns is proportional to the style image's resolution. For the rightmost panel, three images were used simultaneously. </figcaption>\n",
    "</figure>\n",
    "\n"
   ]
  },
  {
   "cell_type": "markdown",
   "id": "e99f41fd-e992-41e7-9c0f-6657a3ec6a97",
   "metadata": {
    "executionInfo": {
     "elapsed": 6,
     "status": "aborted",
     "timestamp": 1625471046493,
     "user": {
      "displayName": "Arthur Bauville",
      "photoUrl": "",
      "userId": "13412020910432312638"
     },
     "user_tz": -540
    },
    "id": "e99f41fd-e992-41e7-9c0f-6657a3ec6a97"
   },
   "source": [
    "# Conclusion\n",
    "\n",
    "In this post, I implemented the neural style transfer algorithm of [Gatys et al. (2015)](https://arxiv.org/abs/1412.0035), with the improvements for feature inversion proposed by [Mahendran and Vedaldi (2016)](https://arxiv.org/abs/1512.02017) and long-range consistency improvements proposed [Berger and Memisevic (2015)](https://arxiv.org/abs/1606.01286) for the style computation. I reused the code architecture that I described in a previous blogpost on the [feature inversion algorithm](https://abauville.github.io/blog/deep-learning/pytorch/computer-vision/from%20scratch/2021/07/16/feature-inversion.html). Neural style transfer is a lot of fun to play with, although the algorithm implemented here is computationally expansive. Later improvements fixed this issue by training an additional network to learn the inversion process (e.g. [Johnson et al. (2016)](https://cs.stanford.edu/people/jcjohns/eccv16/)."
   ]
  },
  {
   "cell_type": "code",
   "execution_count": 11,
   "id": "pJ7G4oWxZ6bq",
   "metadata": {
    "executionInfo": {
     "elapsed": 17,
     "status": "ok",
     "timestamp": 1626762698627,
     "user": {
      "displayName": "Arthur Bauville",
      "photoUrl": "",
      "userId": "13412020910432312638"
     },
     "user_tz": -540
    },
    "id": "pJ7G4oWxZ6bq"
   },
   "outputs": [],
   "source": []
  }
 ],
 "metadata": {
  "accelerator": "GPU",
  "colab": {
   "collapsed_sections": [],
   "name": "Blog03_Transfer.ipynb",
   "provenance": []
  },
  "kernelspec": {
   "display_name": "Python 3",
   "language": "python",
   "name": "python3"
  },
  "language_info": {
   "codemirror_mode": {
    "name": "ipython",
    "version": 3
   },
   "file_extension": ".py",
   "mimetype": "text/x-python",
   "name": "python",
   "nbconvert_exporter": "python",
   "pygments_lexer": "ipython3",
   "version": "3.9.6"
  },
  "widgets": {
   "application/vnd.jupyter.widget-state+json": {
    "3976dac84d7442b1ad46235f560a5200": {
     "model_module": "@jupyter-widgets/controls",
     "model_name": "ProgressStyleModel",
     "state": {
      "_model_module": "@jupyter-widgets/controls",
      "_model_module_version": "1.5.0",
      "_model_name": "ProgressStyleModel",
      "_view_count": null,
      "_view_module": "@jupyter-widgets/base",
      "_view_module_version": "1.2.0",
      "_view_name": "StyleView",
      "bar_color": null,
      "description_width": "initial"
     }
    },
    "45d714d190b54792bb2621b9b4aed840": {
     "model_module": "@jupyter-widgets/base",
     "model_name": "LayoutModel",
     "state": {
      "_model_module": "@jupyter-widgets/base",
      "_model_module_version": "1.2.0",
      "_model_name": "LayoutModel",
      "_view_count": null,
      "_view_module": "@jupyter-widgets/base",
      "_view_module_version": "1.2.0",
      "_view_name": "LayoutView",
      "align_content": null,
      "align_items": null,
      "align_self": null,
      "border": null,
      "bottom": null,
      "display": null,
      "flex": null,
      "flex_flow": null,
      "grid_area": null,
      "grid_auto_columns": null,
      "grid_auto_flow": null,
      "grid_auto_rows": null,
      "grid_column": null,
      "grid_gap": null,
      "grid_row": null,
      "grid_template_areas": null,
      "grid_template_columns": null,
      "grid_template_rows": null,
      "height": null,
      "justify_content": null,
      "justify_items": null,
      "left": null,
      "margin": null,
      "max_height": null,
      "max_width": null,
      "min_height": null,
      "min_width": null,
      "object_fit": null,
      "object_position": null,
      "order": null,
      "overflow": null,
      "overflow_x": null,
      "overflow_y": null,
      "padding": null,
      "right": null,
      "top": null,
      "visibility": null,
      "width": null
     }
    },
    "63151ad892c044a185f41ecd4eb4c8a7": {
     "model_module": "@jupyter-widgets/base",
     "model_name": "LayoutModel",
     "state": {
      "_model_module": "@jupyter-widgets/base",
      "_model_module_version": "1.2.0",
      "_model_name": "LayoutModel",
      "_view_count": null,
      "_view_module": "@jupyter-widgets/base",
      "_view_module_version": "1.2.0",
      "_view_name": "LayoutView",
      "align_content": null,
      "align_items": null,
      "align_self": null,
      "border": null,
      "bottom": null,
      "display": null,
      "flex": null,
      "flex_flow": null,
      "grid_area": null,
      "grid_auto_columns": null,
      "grid_auto_flow": null,
      "grid_auto_rows": null,
      "grid_column": null,
      "grid_gap": null,
      "grid_row": null,
      "grid_template_areas": null,
      "grid_template_columns": null,
      "grid_template_rows": null,
      "height": null,
      "justify_content": null,
      "justify_items": null,
      "left": null,
      "margin": null,
      "max_height": null,
      "max_width": null,
      "min_height": null,
      "min_width": null,
      "object_fit": null,
      "object_position": null,
      "order": null,
      "overflow": null,
      "overflow_x": null,
      "overflow_y": null,
      "padding": null,
      "right": null,
      "top": null,
      "visibility": null,
      "width": null
     }
    },
    "7c0d2b5beb6a4e20b03dd1ef288657c2": {
     "model_module": "@jupyter-widgets/controls",
     "model_name": "FloatProgressModel",
     "state": {
      "_dom_classes": [],
      "_model_module": "@jupyter-widgets/controls",
      "_model_module_version": "1.5.0",
      "_model_name": "FloatProgressModel",
      "_view_count": null,
      "_view_module": "@jupyter-widgets/controls",
      "_view_module_version": "1.5.0",
      "_view_name": "ProgressView",
      "bar_style": "success",
      "description": "100%",
      "description_tooltip": null,
      "layout": "IPY_MODEL_63151ad892c044a185f41ecd4eb4c8a7",
      "max": 553433881,
      "min": 0,
      "orientation": "horizontal",
      "style": "IPY_MODEL_3976dac84d7442b1ad46235f560a5200",
      "value": 553433881
     }
    },
    "8ea8e6f74d454586889059a72887d213": {
     "model_module": "@jupyter-widgets/controls",
     "model_name": "HTMLModel",
     "state": {
      "_dom_classes": [],
      "_model_module": "@jupyter-widgets/controls",
      "_model_module_version": "1.5.0",
      "_model_name": "HTMLModel",
      "_view_count": null,
      "_view_module": "@jupyter-widgets/controls",
      "_view_module_version": "1.5.0",
      "_view_name": "HTMLView",
      "description": "",
      "description_tooltip": null,
      "layout": "IPY_MODEL_45d714d190b54792bb2621b9b4aed840",
      "placeholder": "​",
      "style": "IPY_MODEL_cf247979241d4edb9ba5ec291fcbe245",
      "value": " 528M/528M [00:07&lt;00:00, 72.5MB/s]"
     }
    },
    "a4b7374c1fce43a5aaf28728f7a72112": {
     "model_module": "@jupyter-widgets/controls",
     "model_name": "HBoxModel",
     "state": {
      "_dom_classes": [],
      "_model_module": "@jupyter-widgets/controls",
      "_model_module_version": "1.5.0",
      "_model_name": "HBoxModel",
      "_view_count": null,
      "_view_module": "@jupyter-widgets/controls",
      "_view_module_version": "1.5.0",
      "_view_name": "HBoxView",
      "box_style": "",
      "children": [
       "IPY_MODEL_7c0d2b5beb6a4e20b03dd1ef288657c2",
       "IPY_MODEL_8ea8e6f74d454586889059a72887d213"
      ],
      "layout": "IPY_MODEL_df848183e14146dc9551b1ab26670a24"
     }
    },
    "cf247979241d4edb9ba5ec291fcbe245": {
     "model_module": "@jupyter-widgets/controls",
     "model_name": "DescriptionStyleModel",
     "state": {
      "_model_module": "@jupyter-widgets/controls",
      "_model_module_version": "1.5.0",
      "_model_name": "DescriptionStyleModel",
      "_view_count": null,
      "_view_module": "@jupyter-widgets/base",
      "_view_module_version": "1.2.0",
      "_view_name": "StyleView",
      "description_width": ""
     }
    },
    "df848183e14146dc9551b1ab26670a24": {
     "model_module": "@jupyter-widgets/base",
     "model_name": "LayoutModel",
     "state": {
      "_model_module": "@jupyter-widgets/base",
      "_model_module_version": "1.2.0",
      "_model_name": "LayoutModel",
      "_view_count": null,
      "_view_module": "@jupyter-widgets/base",
      "_view_module_version": "1.2.0",
      "_view_name": "LayoutView",
      "align_content": null,
      "align_items": null,
      "align_self": null,
      "border": null,
      "bottom": null,
      "display": null,
      "flex": null,
      "flex_flow": null,
      "grid_area": null,
      "grid_auto_columns": null,
      "grid_auto_flow": null,
      "grid_auto_rows": null,
      "grid_column": null,
      "grid_gap": null,
      "grid_row": null,
      "grid_template_areas": null,
      "grid_template_columns": null,
      "grid_template_rows": null,
      "height": null,
      "justify_content": null,
      "justify_items": null,
      "left": null,
      "margin": null,
      "max_height": null,
      "max_width": null,
      "min_height": null,
      "min_width": null,
      "object_fit": null,
      "object_position": null,
      "order": null,
      "overflow": null,
      "overflow_x": null,
      "overflow_y": null,
      "padding": null,
      "right": null,
      "top": null,
      "visibility": null,
      "width": null
     }
    }
   }
  }
 },
 "nbformat": 4,
 "nbformat_minor": 5
}
